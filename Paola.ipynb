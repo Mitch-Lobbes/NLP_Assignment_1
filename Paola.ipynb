{
 "cells": [
  {
   "cell_type": "code",
   "execution_count": 2,
   "metadata": {},
   "outputs": [],
   "source": [
    "#Part B\n",
    "\n",
    "import spacy\n",
    "import pandas as pd"
   ]
  },
  {
   "cell_type": "code",
   "execution_count": 3,
   "metadata": {},
   "outputs": [
    {
     "name": "stdout",
     "output_type": "stream",
     "text": [
      "                                 ID   \\\n",
      "0     3QREJ3J433YH30CYS49AQ6MZ3G0LKZ   \n",
      "1     3QREJ3J433YH30CYS49AQ6MZ3G0LKZ   \n",
      "2     3QREJ3J433YH30CYS49AQ6MZ3G0LKZ   \n",
      "3     3QREJ3J433YH30CYS49AQ6MZ3G0LKZ   \n",
      "4     3QREJ3J433YH30CYS49AQ6MZ3G0LKZ   \n",
      "...                              ...   \n",
      "7741  344M16OZKIG450N98VEM53DJOE4ENA   \n",
      "7742  344M16OZKIG450N98VEM53DJOE4ENA   \n",
      "7743  344M16OZKIG450N98VEM53DJOE4ENA   \n",
      "7744  344M16OZKIG450N98VEM53DJOE4ENA   \n",
      "7745  344M16OZKIG450N98VEM53DJOE4ENA   \n",
      "\n",
      "                                               Sentence  Start  Offset  \\\n",
      "0     #37-1 Guatemalan Supreme Court approves impeac...      6      16   \n",
      "1     #37-1 Guatemalan Supreme Court approves impeac...     31      39   \n",
      "2     #37-1 Guatemalan Supreme Court approves impeac...     17      24   \n",
      "3     #37-1 Guatemalan Supreme Court approves impeac...     25      30   \n",
      "4     #37-1 Guatemalan Supreme Court approves impeac...     31      51   \n",
      "...                                                 ...    ...     ...   \n",
      "7741  #36-6 At 9 P.M. EST, INDYCAR released a statem...    116     134   \n",
      "7742  #36-6 At 9 P.M. EST, INDYCAR released a statem...    125     134   \n",
      "7743  #36-6 At 9 P.M. EST, INDYCAR released a statem...    139     154   \n",
      "7744  #36-6 At 9 P.M. EST, INDYCAR released a statem...    157     161   \n",
      "7745  #36-6 At 9 P.M. EST, INDYCAR released a statem...    143     149   \n",
      "\n",
      "                    Target  Native  Non-Native  Diff_Native  Diff_Non-Native  \\\n",
      "0               Guatemalan      10          10            1                0   \n",
      "1                 approves      10          10            0                1   \n",
      "2                  Supreme      10          10            0                0   \n",
      "3                    Court      10          10            0                0   \n",
      "4     approves impeachment      10          10            1                0   \n",
      "...                    ...     ...         ...          ...              ...   \n",
      "7741    critical condition      10          10            0                0   \n",
      "7742             condition      10          10            0                0   \n",
      "7743       had fallen into      10          10            0                1   \n",
      "7744                  coma      10          10            2                3   \n",
      "7745                fallen      10          10            0                0   \n",
      "\n",
      "      Binary  Probabilistic  \n",
      "0          1           0.05  \n",
      "1          1           0.05  \n",
      "2          0           0.00  \n",
      "3          0           0.00  \n",
      "4          1           0.05  \n",
      "...      ...            ...  \n",
      "7741       0           0.00  \n",
      "7742       0           0.00  \n",
      "7743       1           0.05  \n",
      "7744       1           0.25  \n",
      "7745       0           0.00  \n",
      "\n",
      "[7746 rows x 11 columns]\n"
     ]
    }
   ],
   "source": [
    "#Load and extract relevant data\n",
    "\n",
    "path = \"D:\\\\Users\\\\Paola\\\\Documents\\\\University\\\\Master\\\\NLP\\\\Assignment_1\\\\NLP_Assignment_1\\\\intro2nlp_assignment1_code\\\\data\\\\original\\\\english\\\\WikiNews_Train.tsv\"\n",
    "cnames = [\"ID \", \"Sentence\", \"Start\", \"Offset\", \"Target\", \"Native\", \"Non-Native\", \"Diff_Native\", \"Diff_Non-Native\", \"Binary\", \"Probabilistic\"]\n",
    "data = pd.read_csv(path, encoding='utf-8', sep=\"\\t\", names=cnames)\n",
    "print(data)"
   ]
  },
  {
   "cell_type": "code",
   "execution_count": 4,
   "metadata": {},
   "outputs": [
    {
     "name": "stdout",
     "output_type": "stream",
     "text": [
      "0    4530\n",
      "1    3216\n",
      "Name: Binary, dtype: int64\n"
     ]
    }
   ],
   "source": [
    "# Number of instances labeled with 0 and 1\n",
    "print(data.Binary.value_counts()) #4530 times 0 and 3216 times 1"
   ]
  },
  {
   "cell_type": "code",
   "execution_count": 5,
   "metadata": {},
   "outputs": [
    {
     "name": "stdout",
     "output_type": "stream",
     "text": [
      "Mean: 0.08394655305964374\n",
      "Std: 0.16967909326094677\n",
      "Median: 0.0\n",
      "Min: 0.0\n",
      "Max: 1.0\n"
     ]
    }
   ],
   "source": [
    "#Statistics of probabilistic label\n",
    "\n",
    "print(\"Mean:\", data.Probabilistic.mean())\n",
    "print(\"Std:\", data.Probabilistic.std())\n",
    "print(\"Median:\", data.Probabilistic.median())\n",
    "print(\"Min:\", data.Probabilistic.min())\n",
    "print(\"Max:\", data.Probabilistic.max())\n"
   ]
  },
  {
   "cell_type": "code",
   "execution_count": 6,
   "metadata": {},
   "outputs": [
    {
     "name": "stdout",
     "output_type": "stream",
     "text": [
      "                                 ID   \\\n",
      "0     3QREJ3J433YH30CYS49AQ6MZ3G0LKZ   \n",
      "1     3QREJ3J433YH30CYS49AQ6MZ3G0LKZ   \n",
      "2     3QREJ3J433YH30CYS49AQ6MZ3G0LKZ   \n",
      "3     3QREJ3J433YH30CYS49AQ6MZ3G0LKZ   \n",
      "4     3QREJ3J433YH30CYS49AQ6MZ3G0LKZ   \n",
      "...                              ...   \n",
      "7741  344M16OZKIG450N98VEM53DJOE4ENA   \n",
      "7742  344M16OZKIG450N98VEM53DJOE4ENA   \n",
      "7743  344M16OZKIG450N98VEM53DJOE4ENA   \n",
      "7744  344M16OZKIG450N98VEM53DJOE4ENA   \n",
      "7745  344M16OZKIG450N98VEM53DJOE4ENA   \n",
      "\n",
      "                                               Sentence  Start  Offset  \\\n",
      "0     #37-1 Guatemalan Supreme Court approves impeac...      6      16   \n",
      "1     #37-1 Guatemalan Supreme Court approves impeac...     31      39   \n",
      "2     #37-1 Guatemalan Supreme Court approves impeac...     17      24   \n",
      "3     #37-1 Guatemalan Supreme Court approves impeac...     25      30   \n",
      "4     #37-1 Guatemalan Supreme Court approves impeac...     31      51   \n",
      "...                                                 ...    ...     ...   \n",
      "7741  #36-6 At 9 P.M. EST, INDYCAR released a statem...    116     134   \n",
      "7742  #36-6 At 9 P.M. EST, INDYCAR released a statem...    125     134   \n",
      "7743  #36-6 At 9 P.M. EST, INDYCAR released a statem...    139     154   \n",
      "7744  #36-6 At 9 P.M. EST, INDYCAR released a statem...    157     161   \n",
      "7745  #36-6 At 9 P.M. EST, INDYCAR released a statem...    143     149   \n",
      "\n",
      "                    Target            Parsed_Target  N_Token  Native  \\\n",
      "0               Guatemalan             (Guatemalan)        1      10   \n",
      "1                 approves               (approves)        1      10   \n",
      "2                  Supreme                (Supreme)        1      10   \n",
      "3                    Court                  (Court)        1      10   \n",
      "4     approves impeachment  (approves, impeachment)        2      10   \n",
      "...                    ...                      ...      ...     ...   \n",
      "7741    critical condition    (critical, condition)        2      10   \n",
      "7742             condition              (condition)        1      10   \n",
      "7743       had fallen into      (had, fallen, into)        3      10   \n",
      "7744                  coma                   (coma)        1      10   \n",
      "7745                fallen                 (fallen)        1      10   \n",
      "\n",
      "      Non-Native  Diff_Native  Diff_Non-Native  Binary  Probabilistic  \n",
      "0             10            1                0       1           0.05  \n",
      "1             10            0                1       1           0.05  \n",
      "2             10            0                0       0           0.00  \n",
      "3             10            0                0       0           0.00  \n",
      "4             10            1                0       1           0.05  \n",
      "...          ...          ...              ...     ...            ...  \n",
      "7741          10            0                0       0           0.00  \n",
      "7742          10            0                0       0           0.00  \n",
      "7743          10            0                1       1           0.05  \n",
      "7744          10            2                3       1           0.25  \n",
      "7745          10            0                0       0           0.00  \n",
      "\n",
      "[7746 rows x 13 columns]\n"
     ]
    }
   ],
   "source": [
    "#Analysis of tokens per instance\n",
    "\n",
    "nlp = spacy.load('en_core_web_sm')\n",
    "data.insert(loc=5, column=\"Parsed_Target\", value=data.Target.apply(nlp)) #Need to change so that punctionation isn't included, also there are hyphenated words which are being split up\n",
    "data.insert(loc=6, column=\"N_Token\", value=data.Parsed_Target.apply(len))\n",
    "print(data)"
   ]
  },
  {
   "cell_type": "code",
   "execution_count": 7,
   "metadata": {},
   "outputs": [
    {
     "name": "stdout",
     "output_type": "stream",
     "text": [
      "Instances with more than 1 token: 1086\n",
      "Maximum number of tokens per instance: 10\n"
     ]
    }
   ],
   "source": [
    "print(\"Instances with more than 1 token:\", data[\"N_Token\"][data[\"N_Token\"]>1].count())\n",
    "print(\"Maximum number of tokens per instance:\", data.N_Token.max())\n",
    "#data.loc[data['N_Token'] == 6]"
   ]
  },
  {
   "cell_type": "code",
   "execution_count": null,
   "metadata": {},
   "outputs": [],
   "source": []
  },
  {
   "cell_type": "code",
   "execution_count": 8,
   "metadata": {},
   "outputs": [
    {
     "name": "stderr",
     "output_type": "stream",
     "text": [
      "C:\\Users\\Paola\\AppData\\Local\\Temp\\ipykernel_7072\\856003571.py:11: SettingWithCopyWarning: \n",
      "A value is trying to be set on a copy of a slice from a DataFrame.\n",
      "Try using .loc[row_indexer,col_indexer] = value instead\n",
      "\n",
      "See the caveats in the documentation: https://pandas.pydata.org/pandas-docs/stable/user_guide/indexing.html#returning-a-view-versus-a-copy\n",
      "  pizza[\"TokenLengths\"] = pizza.Parsed_Target.apply(lambda x: [len(y) for y in x][0])\n"
     ]
    },
    {
     "name": "stdout",
     "output_type": "stream",
     "text": [
      "                                 ID   \\\n",
      "0     3QREJ3J433YH30CYS49AQ6MZ3G0LKZ   \n",
      "1     3QREJ3J433YH30CYS49AQ6MZ3G0LKZ   \n",
      "5     3QREJ3J433YH30CYS49AQ6MZ3G0LKZ   \n",
      "12    3QREJ3J433YH30CYS49AQ6MZ3G0LKZ   \n",
      "16    3QREJ3J433YH30CYS49AQ6MZ3G0LKZ   \n",
      "...                              ...   \n",
      "7734  344M16OZKIG450N98VEM53DJOE4ENA   \n",
      "7735  344M16OZKIG450N98VEM53DJOE4ENA   \n",
      "7737  344M16OZKIG450N98VEM53DJOE4ENA   \n",
      "7738  344M16OZKIG450N98VEM53DJOE4ENA   \n",
      "7744  344M16OZKIG450N98VEM53DJOE4ENA   \n",
      "\n",
      "                                               Sentence  Start  Offset  \\\n",
      "0     #37-1 Guatemalan Supreme Court approves impeac...      6      16   \n",
      "1     #37-1 Guatemalan Supreme Court approves impeac...     31      39   \n",
      "5     #37-1 Guatemalan Supreme Court approves impeac...     40      51   \n",
      "12    #37-1 Guatemalan Supreme Court approves impeac...    127     135   \n",
      "16    #37-1 Guatemalan Supreme Court approves impeac...    157     164   \n",
      "...                                                 ...    ...     ...   \n",
      "7734  #36-6 At 9 P.M. EST, INDYCAR released a statem...     51      61   \n",
      "7735  #36-6 At 9 P.M. EST, INDYCAR released a statem...     78      86   \n",
      "7737  #36-6 At 9 P.M. EST, INDYCAR released a statem...     89      95   \n",
      "7738  #36-6 At 9 P.M. EST, INDYCAR released a statem...    116     124   \n",
      "7744  #36-6 At 9 P.M. EST, INDYCAR released a statem...    157     161   \n",
      "\n",
      "           Target  Parsed_Target  N_Token  Native  Non-Native  Diff_Native  \\\n",
      "0      Guatemalan   (Guatemalan)        1      10          10            1   \n",
      "1        approves     (approves)        1      10          10            0   \n",
      "5     impeachment  (impeachment)        1      10          10            9   \n",
      "12       attorney     (attorney)        1      10          10            1   \n",
      "16        impeach      (impeach)        1      10          10            6   \n",
      "...           ...            ...      ...     ...         ...          ...   \n",
      "7734   announcing   (announcing)        1      10          10            1   \n",
      "7735     suffered     (suffered)        1      10          10            2   \n",
      "7737       severe       (severe)        1      10          10            5   \n",
      "7738     critical     (critical)        1      10          10            4   \n",
      "7744         coma         (coma)        1      10          10            2   \n",
      "\n",
      "      Diff_Non-Native  Binary  Probabilistic  TotalAnnotations  TokenLengths  \\\n",
      "0                   0       1           0.05                 1            10   \n",
      "1                   1       1           0.05                 1             8   \n",
      "5                   9       1           0.90                18            11   \n",
      "12                  0       1           0.05                 1             8   \n",
      "16                  2       1           0.40                 8             7   \n",
      "...               ...     ...            ...               ...           ...   \n",
      "7734                0       1           0.05                 1            10   \n",
      "7735                0       1           0.10                 2             8   \n",
      "7737                0       1           0.25                 5             6   \n",
      "7738                0       1           0.20                 4             8   \n",
      "7744                3       1           0.25                 5             4   \n",
      "\n",
      "        TokenFreqs  \n",
      "0     8.320000e-07  \n",
      "1     2.630000e-06  \n",
      "5     3.890000e-06  \n",
      "12    4.900000e-05  \n",
      "16    1.260000e-06  \n",
      "...            ...  \n",
      "7734  7.410000e-06  \n",
      "7735  3.310000e-05  \n",
      "7737  3.630000e-05  \n",
      "7738  6.760000e-05  \n",
      "7744  5.500000e-06  \n",
      "\n",
      "[2414 rows x 16 columns]\n"
     ]
    },
    {
     "name": "stderr",
     "output_type": "stream",
     "text": [
      "C:\\Users\\Paola\\AppData\\Local\\Temp\\ipykernel_7072\\856003571.py:17: SettingWithCopyWarning: \n",
      "A value is trying to be set on a copy of a slice from a DataFrame.\n",
      "Try using .loc[row_indexer,col_indexer] = value instead\n",
      "\n",
      "See the caveats in the documentation: https://pandas.pydata.org/pandas-docs/stable/user_guide/indexing.html#returning-a-view-versus-a-copy\n",
      "  pizza[\"TokenFreqs\"] = pizza.Parsed_Target.apply(lambda x: [word_frequency(str(y), \"en\") for y in x][0])\n"
     ]
    }
   ],
   "source": [
    "#TASK 8\n",
    "\n",
    "#Add information about total of annotatators marking a word as complex\n",
    "data[\"TotalAnnotations\"] = data[\"Diff_Native\"] + data[\"Diff_Non-Native\"]\n",
    "\n",
    "#Slice the data!\n",
    "pizza = data.query(\"N_Token==1 and TotalAnnotations >=1\")\n",
    "#print(pizza)\n",
    "\n",
    "#Calculate the length of the tokens as the number of characters. \n",
    "pizza[\"TokenLengths\"] = pizza.Parsed_Target.apply(lambda x: [len(y) for y in x][0])\n",
    "#print(pizza)\n",
    "\n",
    "#Calculate the frequency of the tokens using the wordfreq package \n",
    "from wordfreq import word_frequency\n",
    "\n",
    "pizza[\"TokenFreqs\"] = pizza.Parsed_Target.apply(lambda x: [word_frequency(str(y), \"en\") for y in x][0])\n",
    "print(pizza)"
   ]
  },
  {
   "cell_type": "markdown",
   "metadata": {},
   "source": [
    "Calculate the frequency of the tokens using the wordfreq package \n",
    "(https://pypi.org/project/wordfreq/)."
   ]
  },
  {
   "cell_type": "code",
   "execution_count": 24,
   "metadata": {},
   "outputs": [
    {
     "name": "stdout",
     "output_type": "stream",
     "text": [
      "Correlation between frequency and probabilistic label:\n",
      "                TokenFreqs  Probabilistic\n",
      "TokenFreqs       1.000000      -0.307493\n",
      "Probabilistic   -0.307493       1.000000\n",
      "\n",
      "Correlation between length and probabilistic label:\n",
      "                TokenLengths  Probabilistic\n",
      "TokenLengths       1.000000       0.302075\n",
      "Probabilistic      0.302075       1.000000\n"
     ]
    },
    {
     "name": "stderr",
     "output_type": "stream",
     "text": [
      "C:\\Users\\Paola\\AppData\\Local\\Temp\\ipykernel_7072\\4021210466.py:9: SettingWithCopyWarning: \n",
      "A value is trying to be set on a copy of a slice from a DataFrame.\n",
      "Try using .loc[row_indexer,col_indexer] = value instead\n",
      "\n",
      "See the caveats in the documentation: https://pandas.pydata.org/pandas-docs/stable/user_guide/indexing.html#returning-a-view-versus-a-copy\n",
      "  pizza[\"POS\"] = pizza.Parsed_Target.apply(lambda x: [y.pos_ for y in x][0])\n"
     ]
    },
    {
     "data": {
      "text/plain": [
       "<AxesSubplot:title={'center':'Scatterplot for POS Label and Complexity'}, xlabel='POS Label', ylabel='Complexity'>"
      ]
     },
     "execution_count": 24,
     "metadata": {},
     "output_type": "execute_result"
    },
    {
     "data": {
      "image/png": "[encoded data removed]",
      "text/plain": [
       "<Figure size 432x288 with 1 Axes>"
      ]
     },
     "metadata": {
      "needs_background": "light"
     },
     "output_type": "display_data"
    },
    {
     "data": {
      "image/png": "[encoded data removed]",
      "text/plain": [
       "<Figure size 432x288 with 1 Axes>"
      ]
     },
     "metadata": {
      "needs_background": "light"
     },
     "output_type": "display_data"
    },
    {
     "data": {
      "image/png": "[encoded data removed]",
      "text/plain": [
       "<Figure size 432x288 with 1 Axes>"
      ]
     },
     "metadata": {
      "needs_background": "light"
     },
     "output_type": "display_data"
    }
   ],
   "source": [
    "#Pearson Correlations\n",
    "corr1 = pizza[[\"TokenFreqs\",\"Probabilistic\"]].corr(method=\"pearson\")\n",
    "print(\"Correlation between frequency and probabilistic label:\\n\", corr1)\n",
    "\n",
    "corr2 = pizza[[\"TokenLengths\",\"Probabilistic\"]].corr(method=\"pearson\")\n",
    "print(\"\\nCorrelation between length and probabilistic label:\\n\", corr2)\n",
    "\n",
    "#Add POS tags\n",
    "pizza[\"POS\"] = pizza.Parsed_Target.apply(lambda x: [y.pos_ for y in x][0])\n",
    "#print(pizza)\n",
    "\n",
    "#Scatterplot x=frequency, y=complexity\n",
    "pizza.plot(x=\"TokenFreqs\", y=\"Probabilistic\", kind=\"scatter\",title=\"Scatterplot for Frequency and Complexity\", xlabel=\"Word Frequency\", ylabel=\"Complexity\")\n",
    "\n",
    "#Scatterplot x=length, y=complexity\n",
    "pizza.plot(x=\"TokenLengths\", y=\"Probabilistic\", kind=\"scatter\",title=\"Scatterplot for Length and Complexity\", xlabel=\"Token Length\", ylabel=\"Complexity\")\n",
    "\n",
    "#Scatterplot x=POS, y=complexity\n",
    "pizza.plot(x=\"POS\", y=\"Probabilistic\", kind=\"scatter\",title=\"Scatterplot for POS Label and Complexity\", xlabel=\"POS Label\", ylabel=\"Complexity\")"
   ]
  }
 ],
 "metadata": {
  "interpreter": {
   "hash": "39af0c477ac98a148372f8c08d66623debc10f7e162adc4702aeb0b4bc3cbb29"
  },
  "kernelspec": {
   "display_name": "Python 3.8.13 ('MyPython38')",
   "language": "python",
   "name": "python3"
  },
  "language_info": {
   "codemirror_mode": {
    "name": "ipython",
    "version": 3
   },
   "file_extension": ".py",
   "mimetype": "text/x-python",
   "name": "python",
   "nbconvert_exporter": "python",
   "pygments_lexer": "ipython3",
   "version": "3.8.13"
  },
  "orig_nbformat": 4
 },
 "nbformat": 4,
 "nbformat_minor": 2
}
