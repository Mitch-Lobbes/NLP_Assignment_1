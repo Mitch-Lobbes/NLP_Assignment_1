{
 "cells": [
  {
   "cell_type": "code",
   "execution_count": 9,
   "metadata": {},
   "outputs": [],
   "source": [
    "import pandas as pd\n",
    "import json"
   ]
  },
  {
   "cell_type": "code",
   "execution_count": 21,
   "metadata": {},
   "outputs": [
    {
     "name": "stdout",
     "output_type": "stream",
     "text": [
      "    Weighted F1\n",
      "10     0.745254\n",
      "5      0.745254\n"
     ]
    }
   ],
   "source": [
    "#Visualise F1 values for different numbers of epochs\n",
    "json_path='D:\\\\Users\\\\Paola\\\\Documents\\\\University\\\\Master\\\\NLP\\Assignment_1\\\\NLP_Assignment_1\\\\intro2nlp_assignment1_code\\\\experiments\\\\base_model\\\\F1Values.json'\n",
    "with open(json_path, \"r\") as f:\n",
    "    dict = json.load(f)\n",
    "    data = pd.DataFrame.from_dict(dict, orient=\"index\", columns=[\"Weighted F1\"])\n",
    "    print(data)"
   ]
  }
 ],
 "metadata": {
  "interpreter": {
   "hash": "39af0c477ac98a148372f8c08d66623debc10f7e162adc4702aeb0b4bc3cbb29"
  },
  "kernelspec": {
   "display_name": "Python 3.8.13 ('MyPython38')",
   "language": "python",
   "name": "python3"
  },
  "language_info": {
   "codemirror_mode": {
    "name": "ipython",
    "version": 3
   },
   "file_extension": ".py",
   "mimetype": "text/x-python",
   "name": "python",
   "nbconvert_exporter": "python",
   "pygments_lexer": "ipython3",
   "version": "3.8.13"
  },
  "orig_nbformat": 4
 },
 "nbformat": 4,
 "nbformat_minor": 2
}
